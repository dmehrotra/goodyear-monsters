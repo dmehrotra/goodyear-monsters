q{
 "cells": [
  {
   "cell_type": "code",
   "execution_count": 13,
   "metadata": {},
   "outputs": [],
   "source": [
    "from sas7bdat import SAS7BDAT\n",
    "import numpy as np\n",
    "import pandas as pd\n",
    "from numpy.random import randn\n",
    "from pandas import Series, DataFrame, Index\n",
    "from IPython.display import Image\n",
    "\n",
    "accident_data = SAS7BDAT('data/2007/fars/accident.sas7bdat')\n",
    "vehicle_data = SAS7BDAT('data/2007/fars/vehicle.sas7bdat')\n"
   ]
  },
  {
   "cell_type": "code",
   "execution_count": null,
   "metadata": {},
   "outputs": [],
   "source": [
    "accident = accident_data.to_data_frame()\n",
    "vehicle = vehicle_data.to_data_frame()\n",
    "aheaders=['STATE','ST_CASE','VE_TOTAL','PERMVIT','COUNTY','CITY','DAY','MONTH','YEAR','HOUR','MINUTE','NHS','RUR_URB','ROUTE','LATITUDE','LONGITUD','HARM_EV','FATALS']\n",
    "vheaders= ['STATE','ST_CASE','VEH_NO','NUMOCCS','DAY','MONTH','HOUR','MINUTE','HARM_EV','MAN_COLL','REG_STAT','MAKE','MODEL','MAK_MOD','BODY_TYP','MOD_YEAR','VIN','TRAV_SP','M_HARM','DEATHS','DR_DRINK']\n",
    "accident['headers'] = \"2016\""
   ]
  },
  {
   "cell_type": "code",
   "execution_count": null,
   "metadata": {},
   "outputs": [],
   "source": [
    "accident['headers'] = \"2016\""
   ]
  },
  {
   "cell_type": "code",
   "execution_count": null,
   "metadata": {},
   "outputs": [],
   "source": []
  },
  {
   "cell_type": "code",
   "execution_count": null,
   "metadata": {},
   "outputs": [],
   "source": []
  },
  {
   "cell_type": "code",
   "execution_count": null,
   "metadata": {},
   "outputs": [],
   "source": []
  },
  {
   "cell_type": "code",
   "execution_count": null,
   "metadata": {},
   "outputs": [],
   "source": []
  }
 ],
 "metadata": {
  "kernelspec": {
   "display_name": "Python 2",
   "language": "python",
   "name": "python2"
  },
  "language_info": {
   "codemirror_mode": {
    "name": "ipython",
    "version": 2
   },
   "file_extension": ".py",
   "mimetype": "text/x-python",
   "name": "python",
   "nbconvert_exporter": "python",
   "pygments_lexer": "ipython2",
   "version": "2.7.14"
  }
 },
 "nbformat": 4,
 "nbformat_minor": 2
}
